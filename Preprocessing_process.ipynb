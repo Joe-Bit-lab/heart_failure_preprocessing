{
 "cells": [
  {
   "cell_type": "code",
   "execution_count": 1,
   "metadata": {},
   "outputs": [],
   "source": [
    "import pandas as pd\n",
    "import numpy as np\n",
    "import matplotlib.pyplot as plt\n",
    "import seaborn as sns\n",
    "%matplotlib inline"
   ]
  },
  {
   "cell_type": "code",
   "execution_count": 5,
   "metadata": {},
   "outputs": [],
   "source": [
    "from sklearn.compose import ColumnTransformer\n",
    "from sklearn.preprocessing import StandardScaler\n",
    "from sklearn.model_selection import train_test_split"
   ]
  },
  {
   "cell_type": "code",
   "execution_count": 20,
   "metadata": {},
   "outputs": [],
   "source": [
    "data = pd.read_csv('../../CBlog2/predicting_heart_failure/heart_failure_clinical_records_dataset.csv')\n",
    "\n",
    "X = data.iloc[:,:-1]\n",
    "y = data.iloc[:,-1]\n",
    "\n",
    "#Loop to seperate X data into categorical and numerical groups\n",
    "#The categorical features are booleans, thus the script classifies any column\\\n",
    "#with equa or less than 2 unique values as a categorical\n",
    "categoricals_columns = []\n",
    "numericals_columns = []\n",
    "for i in list(X.columns):\n",
    "    if data[i].nunique() > 2:\n",
    "        numericals_columns.append(i)\n",
    "    else:\n",
    "        categoricals_columns.append(i)\n",
    "\n",
    "categoricals = X[categoricals_columns]\n",
    "numericals = X[numericals_columns]\n",
    "\n",
    "ss = StandardScaler()\n",
    "preprocessor = ColumnTransformer(\n",
    "    transformers=[\n",
    "        ('numericals',\n",
    "        ss,\n",
    "        numericals_columns\n",
    "        )\n",
    "    ]\n",
    ")\n",
    "numericals_scaled = pd.DataFrame(preprocessor.fit_transform(X), columns=numericals_columns)\n",
    "X_processed = pd.concat([numericals_scaled,categoricals], axis=1)\n",
    "\n",
    "\n",
    "X_train, X_test, y_train, y_test = train_test_split(X_processed, y, test_size=0.2)"
   ]
  },
  {
   "cell_type": "code",
   "execution_count": 27,
   "metadata": {},
   "outputs": [],
   "source": [
    "from sklearn.ensemble import RandomForestClassifier\n",
    "from sklearn.metrics import accuracy_score\n",
    "from sklearn.ensemble import GradientBoostingClassifier\n",
    "from sklearn.model_selection import GridSearchCV"
   ]
  },
  {
   "cell_type": "code",
   "execution_count": 28,
   "metadata": {},
   "outputs": [],
   "source": [
    "rf = RandomForestClassifier()\n",
    "gb = GradientBoostingClassifier()\n",
    "\n",
    "rf_param_grid = {\n",
    "    'max_depth':range(2,7),\n",
    "    'n_estimators':range(10,30)\n",
    "}\n",
    "\n",
    "gb_param_grid = {\n",
    "    'loss':['deviance','exponential'],\n",
    "    'max_depth':range(2,7),\n",
    "    'max_features':['sqrt','log2']\n",
    "}\n",
    "\n",
    "def model_fitter(model):\n",
    "    model.fit(X_train, y_train)\n",
    "    print('Training Score: {}'.format(model.score(X_train, y_train)))\n",
    "    y_pred = model.predict(X_test)\n",
    "    print('Test Score {}:'.format(accuracy_score(y_test, y_pred)))\n",
    "    \n",
    "def grid_search(model,param_grid):\n",
    "    grid_search= GridSearchCV(\n",
    "        estimator=model,\n",
    "        param_grid=param_grid,\n",
    "        scoring='accuracy',\n",
    "        n_jobs=-1,\n",
    "        cv=5\n",
    "    )\n",
    "    grid_search_rf.fit(\n",
    "        X_train,\n",
    "        y_train\n",
    "    )\n",
    "    print('Best Parameters were: {}'.format(grid_search.best_params_))\n",
    "    print('Best CrossVal Score was: {}'.format(grid_search.best_score_))"
   ]
  },
  {
   "cell_type": "code",
   "execution_count": 29,
   "metadata": {},
   "outputs": [
    {
     "name": "stdout",
     "output_type": "stream",
     "text": [
      "Best Parameters were: {'max_depth': 6, 'n_estimators': 16}\n",
      "Best CrossVal Score was: 0.8703014184397162\n"
     ]
    }
   ],
   "source": [
    "grid_search(rf, rf_param_grid)"
   ]
  },
  {
   "cell_type": "code",
   "execution_count": 30,
   "metadata": {},
   "outputs": [
    {
     "name": "stdout",
     "output_type": "stream",
     "text": [
      "Best Parameters were: {'loss': 'exponential', 'max_depth': 2, 'max_features': 'log2'}\n",
      "Best CrossVal Score was: 0.8494680851063829\n"
     ]
    }
   ],
   "source": [
    "grid_search(gb, gb_param_grid)"
   ]
  },
  {
   "cell_type": "code",
   "execution_count": 31,
   "metadata": {},
   "outputs": [
    {
     "name": "stdout",
     "output_type": "stream",
     "text": [
      "Training Score: 0.9790794979079498\n",
      "Test Score 0.8666666666666667:\n"
     ]
    }
   ],
   "source": [
    "updated_rf = RandomForestClassifier(max_depth=6, n_estimators=16)\n",
    "model_fitter(updated_rf)"
   ]
  }
 ],
 "metadata": {
  "kernelspec": {
   "display_name": "Python 3",
   "language": "python",
   "name": "python3"
  },
  "language_info": {
   "codemirror_mode": {
    "name": "ipython",
    "version": 3
   },
   "file_extension": ".py",
   "mimetype": "text/x-python",
   "name": "python",
   "nbconvert_exporter": "python",
   "pygments_lexer": "ipython3",
   "version": "3.7.7"
  }
 },
 "nbformat": 4,
 "nbformat_minor": 4
}
